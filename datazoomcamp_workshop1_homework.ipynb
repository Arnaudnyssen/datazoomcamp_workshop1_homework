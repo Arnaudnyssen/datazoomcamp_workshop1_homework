{
 "cells": [
  {
   "cell_type": "code",
   "execution_count": 15,
   "id": "b217c3f1",
   "metadata": {},
   "outputs": [],
   "source": [
    "%%capture\n",
    "!pip install \"dlt[duckdb]\"\n",
    "import dlt"
   ]
  },
  {
   "cell_type": "markdown",
   "id": "c2b2bf98",
   "metadata": {},
   "source": [
    "defining the pipeline and add the first generator in a table (\"table1\")"
   ]
  },
  {
   "cell_type": "code",
   "execution_count": 21,
   "id": "309efc68",
   "metadata": {},
   "outputs": [],
   "source": [
    "def people_1():\n",
    "    for i in range(1, 6):\n",
    "        yield {\"ID\": i, \"Name\": f\"Person_{i}\", \"Age\": 25 + i, \"City\": \"City_A\"}\n",
    "pipeline = dlt.pipeline(destination='duckdb', dataset_name='homework_workshop')\n",
    "info = pipeline.run(people_1(), table_name=\"table1\")\n"
   ]
  },
  {
   "cell_type": "code",
   "execution_count": 22,
   "id": "72b2347a",
   "metadata": {},
   "outputs": [
    {
     "name": "stdout",
     "output_type": "stream",
     "text": [
      "Pipeline dlt_ipykernel_launcher load step completed in 0.21 seconds\n",
      "1 load package(s) were loaded to destination duckdb and into dataset homework_workshop\n",
      "The duckdb destination used duckdb:////Users/arnaud/dlt_ipykernel_launcher.duckdb location to store data\n",
      "Load package 1707844789.916435 is LOADED and contains no failed jobs\n"
     ]
    }
   ],
   "source": [
    "print(info)"
   ]
  },
  {
   "cell_type": "markdown",
   "id": "17597b13",
   "metadata": {},
   "source": [
    "Query to see the average of ages with the datas from the first decorator"
   ]
  },
  {
   "cell_type": "code",
   "execution_count": 26,
   "id": "1d7b47f7",
   "metadata": {},
   "outputs": [
    {
     "name": "stdout",
     "output_type": "stream",
     "text": [
      "[(140,)]\n"
     ]
    }
   ],
   "source": [
    " with pipeline.sql_client() as client:\n",
    "        res = client.execute_sql(\n",
    "            \"SELECT SUM(Age) FROM table1\"\n",
    "            \n",
    "        )\n",
    "        # prints columns values of first row\n",
    "        print(res)"
   ]
  },
  {
   "cell_type": "markdown",
   "id": "a447fdf2",
   "metadata": {},
   "source": [
    "Add the datas from the second generator"
   ]
  },
  {
   "cell_type": "code",
   "execution_count": 27,
   "id": "73d9a037",
   "metadata": {},
   "outputs": [],
   "source": [
    "def people_2():\n",
    "    for i in range(3, 9):\n",
    "        yield {\"ID\": i, \"Name\": f\"Person_{i}\", \"Age\": 30 + i, \"City\": \"City_B\", \"Occupation\": f\"Job_{i}\"}\n",
    "info = pipeline.run(people_2(), table_name=\"table1\")\n"
   ]
  },
  {
   "cell_type": "markdown",
   "id": "15bb7b95",
   "metadata": {},
   "source": [
    "Query to answer the question3 with the sum of ages of the datas from the two generators whern they are appended"
   ]
  },
  {
   "cell_type": "code",
   "execution_count": 33,
   "id": "076e6816",
   "metadata": {},
   "outputs": [
    {
     "name": "stdout",
     "output_type": "stream",
     "text": [
      "[(353,)]\n"
     ]
    }
   ],
   "source": [
    "with pipeline.sql_client() as client:\n",
    "        res = client.execute_sql(\n",
    "            \"SELECT SUM(Age) FROM table1\"\n",
    "            \n",
    "        )\n",
    "        # prints columns values of first row\n",
    "        print(res)"
   ]
  },
  {
   "cell_type": "markdown",
   "id": "75525b20",
   "metadata": {},
   "source": [
    "First method to merge the generators in a table using the ID as primary key"
   ]
  },
  {
   "cell_type": "code",
   "execution_count": 38,
   "id": "ee5b6c77",
   "metadata": {},
   "outputs": [],
   "source": [
    "@dlt.resource(\n",
    "    table_name=\"table2\",\n",
    "    write_disposition=\"merge\",\n",
    "    primary_key=\"ID\")\n",
    "def people_1():\n",
    "    for i in range(1, 6):\n",
    "        yield {\"ID\": i, \"Name\": f\"Person_{i}\", \"Age\": 25 + i, \"City\": \"City_A\"}\n",
    "info_1 = pipeline.run(people_1())"
   ]
  },
  {
   "cell_type": "code",
   "execution_count": 44,
   "id": "f9885521",
   "metadata": {},
   "outputs": [],
   "source": [
    "@dlt.resource(\n",
    "    table_name=\"table2\",\n",
    "    write_disposition=\"merge\",\n",
    "    primary_key=\"ID\")\n",
    "def people_2():\n",
    "    for i in range(3, 9):\n",
    "        yield {\"ID\": i, \"Name\": f\"Person_{i}\", \"Age\": 30 + i, \"City\": \"City_B\", \"Occupation\": f\"Job_{i}\"}\n",
    "info_1 = pipeline.run(people_2())"
   ]
  },
  {
   "cell_type": "code",
   "execution_count": 49,
   "id": "ea551a61",
   "metadata": {},
   "outputs": [
    {
     "name": "stdout",
     "output_type": "stream",
     "text": [
      "[(266,)]\n"
     ]
    }
   ],
   "source": [
    "with pipeline.sql_client() as client:\n",
    "        res = client.execute_sql(\n",
    "            \"SELECT SUM(AGE) FROM table2  \"\n",
    "            \n",
    "        )\n",
    "        # prints columns values of first row\n",
    "        print(res)"
   ]
  },
  {
   "cell_type": "code",
   "execution_count": 47,
   "id": "e713c2f0",
   "metadata": {},
   "outputs": [
    {
     "name": "stdout",
     "output_type": "stream",
     "text": [
      "[(3, 33)]\n"
     ]
    }
   ],
   "source": [
    "with pipeline.sql_client() as client:\n",
    "        res = client.execute_sql(\n",
    "            \"SELECT ID,AGE FROM table2 WHERE ID == 3 \"\n",
    "            \n",
    "        )\n",
    "        # prints columns values of first row\n",
    "        print(res)"
   ]
  },
  {
   "cell_type": "markdown",
   "id": "7843e7ae",
   "metadata": {},
   "source": [
    "Second method to merge the generators in a table using the ID as primary key"
   ]
  },
  {
   "cell_type": "code",
   "execution_count": 48,
   "id": "2d9483ed",
   "metadata": {},
   "outputs": [],
   "source": [
    "def people_1():\n",
    "    for i in range(1, 6):\n",
    "        yield {\"ID\": i, \"Name\": f\"Person_{i}\", \"Age\": 25 + i, \"City\": \"City_A\"}\n",
    "pipeline = dlt.pipeline(destination='duckdb', dataset_name='homework_workshop')\n",
    "info_4 = pipeline.run(people_1(), table_name=\"table4\",write_disposition=\"merge\",\n",
    "    primary_key=\"ID\")"
   ]
  },
  {
   "cell_type": "code",
   "execution_count": 51,
   "id": "62dac106",
   "metadata": {},
   "outputs": [],
   "source": [
    "def people_2():\n",
    "    for i in range(3, 9):\n",
    "        yield {\"ID\": i, \"Name\": f\"Person_{i}\", \"Age\": 30 + i, \"City\": \"City_B\", \"Occupation\": f\"Job_{i}\"}\n",
    "info_4 = pipeline.run(people_2(), table_name=\"table4\",write_disposition=\"merge\",\n",
    "    primary_key=\"ID\")"
   ]
  },
  {
   "cell_type": "code",
   "execution_count": 54,
   "id": "2a10826a",
   "metadata": {},
   "outputs": [
    {
     "name": "stdout",
     "output_type": "stream",
     "text": [
      "[(266,)]\n"
     ]
    }
   ],
   "source": [
    "with pipeline.sql_client() as client:\n",
    "        res = client.execute_sql(\n",
    "            \"SELECT SUM(AGE) FROM table4 \"\n",
    "            \n",
    "        )\n",
    "        # prints columns values of first row\n",
    "        print(res)"
   ]
  },
  {
   "cell_type": "code",
   "execution_count": 55,
   "id": "07241338",
   "metadata": {},
   "outputs": [
    {
     "name": "stdout",
     "output_type": "stream",
     "text": [
      "[(3, 33)]\n"
     ]
    }
   ],
   "source": [
    "with pipeline.sql_client() as client:\n",
    "        res = client.execute_sql(\n",
    "            \"SELECT ID,AGE FROM table4 WHERE ID == 3\"\n",
    "            \n",
    "        )\n",
    "        # prints columns values of first row\n",
    "        print(res)"
   ]
  },
  {
   "cell_type": "code",
   "execution_count": null,
   "id": "3dc73cb1",
   "metadata": {},
   "outputs": [],
   "source": []
  }
 ],
 "metadata": {
  "kernelspec": {
   "display_name": "Python 3 (ipykernel)",
   "language": "python",
   "name": "python3"
  },
  "language_info": {
   "codemirror_mode": {
    "name": "ipython",
    "version": 3
   },
   "file_extension": ".py",
   "mimetype": "text/x-python",
   "name": "python",
   "nbconvert_exporter": "python",
   "pygments_lexer": "ipython3",
   "version": "3.11.5"
  }
 },
 "nbformat": 4,
 "nbformat_minor": 5
}
